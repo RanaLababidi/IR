{
 "cells": [
  {
   "cell_type": "code",
   "execution_count": null,
   "id": "430bafce",
   "metadata": {},
   "outputs": [
    {
     "ename": "NameError",
     "evalue": "name 'antique' is not defined",
     "output_type": "error",
     "traceback": [
      "\u001b[1;31m---------------------------------------------------------------------------\u001b[0m",
      "\u001b[1;31mNameError\u001b[0m                                 Traceback (most recent call last)",
      "Cell \u001b[1;32mIn[9], line 4\u001b[0m\n\u001b[0;32m      1\u001b[0m \u001b[38;5;28;01mfrom\u001b[39;00m \u001b[38;5;21;01mvectorize\u001b[39;00m\u001b[38;5;21;01m.\u001b[39;00m\u001b[38;5;21;01mTF_DF\u001b[39;00m \u001b[38;5;28;01mimport\u001b[39;00m build_save_vectorizer\n\u001b[0;32m      3\u001b[0m \u001b[38;5;66;03m# استدعاء التابع حسب إدخال المستخدم\u001b[39;00m\n\u001b[1;32m----> 4\u001b[0m antique\n\u001b[0;32m      5\u001b[0m build_save_vectorizer(\u001b[38;5;124m\"\u001b[39m\u001b[38;5;124mantique\u001b[39m\u001b[38;5;124m\"\u001b[39m)\n",
      "\u001b[1;31mNameError\u001b[0m: name 'antique' is not defined"
     ]
    }
   ],
   "source": [
    "from vectorize.TF_DF import build_save_vectorizer\n",
    "\n",
    "# antique\n",
    "# beir\n",
    "build_save_vectorizer(\"antique\")"
   ]
  },
  {
   "cell_type": "code",
   "execution_count": null,
   "id": "3107a826",
   "metadata": {},
   "outputs": [],
   "source": []
  }
 ],
 "metadata": {
  "kernelspec": {
   "display_name": "base",
   "language": "python",
   "name": "python3"
  },
  "language_info": {
   "codemirror_mode": {
    "name": "ipython",
    "version": 3
   },
   "file_extension": ".py",
   "mimetype": "text/x-python",
   "name": "python",
   "nbconvert_exporter": "python",
   "pygments_lexer": "ipython3",
   "version": "3.12.7"
  }
 },
 "nbformat": 4,
 "nbformat_minor": 5
}
